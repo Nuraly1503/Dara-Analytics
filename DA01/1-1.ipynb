{
 "cells": [
  {
   "cell_type": "code",
   "execution_count": null,
   "metadata": {},
   "outputs": [],
   "source": [
    "# imports\n",
    "import numpy as np\n",
    "import plotly.express as px\n",
    "import pandas as pd\n",
    "from plotly.subplots import make_subplots\n",
    "from sklearn.feature_selection import SelectKBest, f_classif\n",
    "df = pd.read_csv('mammographic_masses_data.csv')\n"
   ]
  },
  {
   "cell_type": "code",
   "execution_count": null,
   "metadata": {},
   "outputs": [],
   "source": [
    "# 1.1 Showing the first 5 rows of the dataset\n",
    "df.head()\n",
    "df.describe()"
   ]
  },
  {
   "cell_type": "code",
   "execution_count": null,
   "metadata": {},
   "outputs": [],
   "source": [
    "# 2.2 Show the points in the dataset where the Severity is 1\n",
    "loc_df = df.loc[df['Severity'] == 1 , 'BA'] #can choose to only show specific characteristics with severity == 1\n",
    "print(loc_df)"
   ]
  },
  {
   "cell_type": "code",
   "execution_count": null,
   "metadata": {},
   "outputs": [],
   "source": [
    "ageHist = px.histogram(df[['Age']])\n",
    "baScatter = px.scatter(df, x='BA', y='Age', color='BA', color_continuous_scale=px.colors.sequential.Bluered_r)\n",
    "baScatter.show()\n",
    "ageHist.show()"
   ]
  },
  {
   "cell_type": "code",
   "execution_count": null,
   "metadata": {},
   "outputs": [],
   "source": [
    "#3.1\n",
    "\n",
    "\n",
    "df_cp = df.copy()\n",
    "# Removes empty cells. inplace=True makes sure to create a new dataset with the changes saved\n",
    "df_cp.dropna(inplace=True)\n",
    "\n",
    "\n",
    "ageHist_cp = px.histogram(df_cp[['Age']])\n",
    "baScatter_cp = px.scatter(df_cp, x='BA', y='Age', color='BA', color_continuous_scale=px.colors.sequential.Bluered_r)\n",
    "\n",
    "# Making side by side plots \n",
    "sbs = make_subplots(rows=1, cols=2, subplot_titles=\n",
    "        (\"Before dropna\", \"After dropna\"))\n",
    "# Creating\n",
    "sbs.update_layout(height=600, width=1800, title_text=\"Side by Side Visualizations\")\n",
    "\n",
    "# OG version before dropna function\n",
    "hist = ageHist.data[0]\n",
    "# after dropna function\n",
    "hist_cp = ageHist_cp.data[0]\n",
    "\n",
    "scatter = baScatter_cp.data[0]\n",
    "\n",
    "# Adding graphs to side side by side graph \n",
    "# sbs.add_trace(hist, row=1, col=1)\n",
    "# sbs.add_trace(hist_cp, row=1, col=2)\n",
    "# sbs.show()\n",
    "\n",
    "\n",
    "# ageHist.show()\n",
    "# baScatter.show()\n",
    "\n",
    "# 3.2\n",
    "\n",
    "# Sinlge column normalization\n",
    "def lin_norm(val, col):\n",
    "    val = val[[col]]\n",
    "    max_val = val.max()\n",
    "    min_val = val.min()\n",
    "    return (val - min_val) / (max_val - min_val)\n",
    "\n",
    "# Square Root Normalization\n",
    "def sqrt_norm(val, col):\n",
    "    val = val[[col]]\n",
    "    max_val = val.max()\n",
    "    min_val = val.min()\n",
    "    return np.sqrt((val - min_val) / (max_val - min_val))\n",
    "\n",
    "# Logarithmic Normalizatio\n",
    "def log_norm(val, col):\n",
    "    val = val[[col]]\n",
    "    min_val = val.min()\n",
    "    max_val = val.max()\n",
    "    return (np.log(val) - np.log(min_val)) /(np.log(max_val  - np.log(min_val)))\n",
    "\n",
    "# df_lin_norm = lin_norm(df_cp, 'Age')\n",
    "# df_lin_norm[['Age']].head()\n",
    "\n",
    "df_lin_norm_test = lin_norm(df_cp, 'Age')\n",
    "df_lin_norm_test.head()\n",
    "\n",
    "# df_sqrt_norm = sqrt_norm(df_cp)\n",
    "# df_sqrt_norm.head()\n",
    "\n",
    "# df_log_norm = log_norm(df_cp)\n",
    "# df_log_norm.head()\n",
    "\n",
    "\n",
    "\n",
    "\n",
    "\n",
    "\n",
    "\n"
   ]
  },
  {
   "cell_type": "code",
   "execution_count": null,
   "metadata": {},
   "outputs": [],
   "source": [
    "#4\n"
   ]
  }
 ],
 "metadata": {
  "kernelspec": {
   "display_name": "Python 3",
   "language": "python",
   "name": "python3"
  },
  "language_info": {
   "codemirror_mode": {
    "name": "ipython",
    "version": 3
   },
   "file_extension": ".py",
   "mimetype": "text/x-python",
   "name": "python",
   "nbconvert_exporter": "python",
   "pygments_lexer": "ipython3",
   "version": "3.12.4"
  }
 },
 "nbformat": 4,
 "nbformat_minor": 2
}
